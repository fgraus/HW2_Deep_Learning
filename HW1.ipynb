{
 "cells": [
  {
   "cell_type": "markdown",
   "id": "cd495876",
   "metadata": {},
   "source": [
    "# Insert"
   ]
  },
  {
   "cell_type": "code",
   "execution_count": 2,
   "id": "e03604e2",
   "metadata": {},
   "outputs": [],
   "source": [
    "import os\n",
    "import pandas as pd\n",
    "import numpy as np\n",
    "from PIL import Image\n",
    "\n",
    "from sklearn.compose import ColumnTransformer\n",
    "from sklearn.preprocessing import OneHotEncoder"
   ]
  },
  {
   "cell_type": "code",
   "execution_count": 3,
   "id": "d516e3c5",
   "metadata": {},
   "outputs": [],
   "source": [
    "import tensorflow as tf"
   ]
  },
  {
   "cell_type": "code",
   "execution_count": 6,
   "id": "d6c44d7f",
   "metadata": {},
   "outputs": [
    {
     "name": "stdout",
     "output_type": "stream",
     "text": [
      "Num GPUs Available:  0\n"
     ]
    }
   ],
   "source": [
    "print(\"Num GPUs Available: \", len(tf.config.list_physical_devices('GPU')))"
   ]
  },
  {
   "cell_type": "markdown",
   "id": "f35888be",
   "metadata": {},
   "source": [
    "# Import images and transform then into 1D"
   ]
  },
  {
   "cell_type": "code",
   "execution_count": null,
   "id": "d2ae78eb",
   "metadata": {},
   "outputs": [],
   "source": [
    "resolution = [32,32]\n",
    "dimension = 3072\n",
    "\n",
    "trainingList = pd.DataFrame(columns = ['label'])\n",
    "evaluationList = pd.DataFrame(columns = ['label'])\n",
    "validateList = pd.DataFrame(columns = ['label'])\n",
    "\n",
    "for root, dirs, files in os.walk('Food-5K/training', topdown=False):\n",
    "    for file in files:\n",
    "        try:\n",
    "            image = Image.open(root+'/'+file)\n",
    "            imageResize = tf.image.resize(image, resolution, method='nearest', preserve_aspect_ratio=False)\n",
    "            imageFlatten = tf.reshape(imageResize, [dimension]).numpy()\n",
    "            imageFlatten = imageFlatten/255\n",
    "            trainingList = pd.concat([trainingList, pd.DataFrame(imageFlatten).T], ignore_index=True)\n",
    "            trainingList.loc[trainingList.shape[0]-1,'label'] = int(file[0])\n",
    "        except Exception:\n",
    "            print('Error getting training image on image ' + file)\n",
    "            \n",
    "    for root, dirs, files in os.walk('Food-5K/evaluation', topdown=False):\n",
    "        for file in files:\n",
    "            try:\n",
    "                image = Image.open(root+'/'+file)\n",
    "                imageResize = tf.image.resize(image, resolution, method='nearest', preserve_aspect_ratio=False)\n",
    "                imageFlatten = tf.reshape(imageResize, [dimension]).numpy()\n",
    "                imageFlatten = imageFlatten/255\n",
    "                evaluationList = pd.concat([evaluationList, pd.DataFrame(imageFlatten).T], ignore_index=True)\n",
    "                evaluationList.loc[evaluationList.shape[0]-1,'label'] = int(file[0])\n",
    "            except Exception:\n",
    "                print('Error getting evaluation image on image ' + file)\n",
    "            \n",
    "    for root, dirs, files in os.walk('Food-5K/validation', topdown=False):\n",
    "        for file in files:\n",
    "            try:\n",
    "                image = Image.open(root+'/'+file)\n",
    "                imageResize = tf.image.resize(image, resolution, method='nearest', preserve_aspect_ratio=False)\n",
    "                imageFlatten = tf.reshape(imageResize, [dimension]).numpy()\n",
    "                imageFlatten = imageFlatten/255\n",
    "                validateList = pd.concat([validateList, pd.DataFrame(imageFlatten).T], ignore_index=True)\n",
    "                validateList.loc[validateList.shape[0]-1,'label'] = int(file[0])\n",
    "            except Exception:\n",
    "                print('Error getting testing image on image ' + file)\n",
    "                "
   ]
  },
  {
   "cell_type": "code",
   "execution_count": null,
   "id": "8478b7b5",
   "metadata": {},
   "outputs": [],
   "source": [
    "%store trainingList\n",
    "%store evaluationList\n",
    "%store validateList"
   ]
  },
  {
   "cell_type": "code",
   "execution_count": 2,
   "id": "a2b9ff83",
   "metadata": {},
   "outputs": [],
   "source": [
    "resolution = [32,32]\n",
    "dimension = 3072\n",
    "\n",
    "%store -r trainingList\n",
    "%store -r evaluationList\n",
    "%store -r validateList"
   ]
  },
  {
   "cell_type": "markdown",
   "id": "a47fed23",
   "metadata": {},
   "source": [
    "# BUILDING THE NEURAL NETWORK"
   ]
  },
  {
   "cell_type": "code",
   "execution_count": 3,
   "id": "e883223e",
   "metadata": {},
   "outputs": [],
   "source": [
    "import tensorflow as tf"
   ]
  },
  {
   "cell_type": "code",
   "execution_count": 31,
   "id": "7803ee46",
   "metadata": {},
   "outputs": [],
   "source": [
    "def createFFN(nHiddenLayers, unitsHiddenLayer, kerner_reg, bias_reg, activity_reg, dropoutRate):\n",
    "    ffn = tf.keras.models.Sequential()\n",
    "    \n",
    "    # adding the input layer\n",
    "    ffn.add(tf.keras.layers.Dense(units=nHiddenLayers,\n",
    "                                  input_dim=dimension, \n",
    "                                  activation='relu',\n",
    "                                  activity_regularizer=activity_reg,\n",
    "                                  bias_regularizer= bias_reg,\n",
    "                                  kernel_regularizer= kerner_reg\n",
    "                                 ))\n",
    "    \n",
    "    ffn.add(tf.keras.layers.Dropout(dropoutRate))\n",
    "    \n",
    "    # adding the hidden layers\n",
    "    for i in range(nHiddenLayers):\n",
    "            \n",
    "        ffn.add(tf.keras.layers.Dense(units=unitsHiddenLayer,\n",
    "                                     activation='relu',\n",
    "                                     bias_regularizer= bias_reg,\n",
    "                                     activity_regularizer= activity_reg,\n",
    "                                     kernel_regularizer= kerner_reg\n",
    "                                     ))\n",
    "        ffn.add(tf.keras.layers.Dropout(dropoutRate))\n",
    "            \n",
    "        \n",
    "    # adding the output layer\n",
    "    ffn.add(tf.keras.layers.Dense(units=1, activation='sigmoid'))\n",
    "    \n",
    "    return ffn"
   ]
  },
  {
   "cell_type": "code",
   "execution_count": 43,
   "id": "2ec79776",
   "metadata": {},
   "outputs": [],
   "source": [
    "reg = 1e-6\n",
    "\n",
    "drop = 0.3\n",
    "\n",
    "ffn = createFFN(nHiddenLayers = 11, unitsHiddenLayer = 26, kerner_reg = tf.keras.regularizers.L1(reg), bias_reg =tf.keras.regularizers.L1(reg), activity_reg = tf.keras.regularizers.L1(reg), dropoutRate = drop)\n",
    "\n",
    "\n",
    "ffn.compile(optimizer=tf.keras.optimizers.Adam(learning_rate=1e-4),\n",
    "       loss=tf.keras.losses.BinaryCrossentropy(),\n",
    "       metrics = ['accuracy'])\n"
   ]
  },
  {
   "cell_type": "code",
   "execution_count": 42,
   "id": "40626766",
   "metadata": {},
   "outputs": [],
   "source": [
    "def train(ffn):\n",
    "    es = tf.keras.callbacks.EarlyStopping(monitor='val_loss', patience = 5)\n",
    "\n",
    "    history = ffn.fit(trainingList.drop(['label'], axis=1),\n",
    "                  trainingList['label'].astype('float'),\n",
    "                  validation_data = (validateList.drop(['label'], axis=1), validateList['label'].astype('float')),\n",
    "                  batch_size = 128,\n",
    "                  epochs = 100,\n",
    "                  verbose='auto',\n",
    "                  shuffle = True,\n",
    "                  callbacks=[es]\n",
    "                 )\n",
    "    return history\n"
   ]
  },
  {
   "cell_type": "markdown",
   "id": "e7d16c65",
   "metadata": {},
   "source": [
    "# Train and test model"
   ]
  },
  {
   "cell_type": "code",
   "execution_count": null,
   "id": "a36bb103",
   "metadata": {},
   "outputs": [],
   "source": [
    "history = train(ffn)"
   ]
  },
  {
   "cell_type": "code",
   "execution_count": 8,
   "id": "aadfc5fe",
   "metadata": {},
   "outputs": [],
   "source": [
    "import matplotlib.pyplot as plt"
   ]
  },
  {
   "cell_type": "code",
   "execution_count": 41,
   "id": "ed965905",
   "metadata": {},
   "outputs": [
    {
     "data": {
      "image/png": "[encoded data removed]",
      "text/plain": [
       "<Figure size 432x288 with 1 Axes>"
      ]
     },
     "metadata": {
      "needs_background": "light"
     },
     "output_type": "display_data"
    },
    {
     "data": {
      "image/png": "[encoded data removed]",
      "text/plain": [
       "<Figure size 432x288 with 1 Axes>"
      ]
     },
     "metadata": {
      "needs_background": "light"
     },
     "output_type": "display_data"
    }
   ],
   "source": [
    "plt.plot(history.history['accuracy'])\n",
    "plt.plot(history.history['val_accuracy'])\n",
    "plt.title('model accuracy')\n",
    "plt.ylabel('accuracy')\n",
    "plt.xlabel('epoch')\n",
    "plt.legend(['train', 'test'], loc='upper left')\n",
    "plt.show()\n",
    "\n",
    "plt.plot(history.history['loss'])\n",
    "plt.plot(history.history['val_loss'])\n",
    "plt.title('model loss')\n",
    "plt.ylabel('loss')\n",
    "plt.xlabel('epoch')\n",
    "plt.legend(['train', 'test'], loc='upper left')\n",
    "plt.show()"
   ]
  },
  {
   "cell_type": "markdown",
   "id": "ae3978e0",
   "metadata": {},
   "source": [
    "# TEST AND PLOT"
   ]
  },
  {
   "cell_type": "code",
   "execution_count": 169,
   "id": "6f7e2fba",
   "metadata": {},
   "outputs": [
    {
     "name": "stdout",
     "output_type": "stream",
     "text": [
      "32/32 - 0s - loss: 0.4925 - accuracy: 0.7690 - 261ms/epoch - 8ms/step\n"
     ]
    }
   ],
   "source": [
    "test_loss, test_acc = ffn.evaluate(evaluationList.drop(['label'], axis=1),\n",
    "                  evaluationList['label'].astype('float'), verbose=2)"
   ]
  },
  {
   "cell_type": "code",
   "execution_count": 138,
   "id": "c521ae18",
   "metadata": {},
   "outputs": [
    {
     "data": {
      "image/png": "[encoded data removed]",
      "text/plain": [
       "<Figure size 432x288 with 1 Axes>"
      ]
     },
     "metadata": {
      "needs_background": "light"
     },
     "output_type": "display_data"
    }
   ],
   "source": [
    "# Print a bar chart with groups\n",
    "\n",
    "import numpy as np\n",
    "import matplotlib.pyplot as plt\n",
    "\n",
    "# set height of bar\n",
    "# length of these lists determine the number\n",
    "# of groups (they must all be the same length)\n",
    "bars1 = [trainNo, trainL2, trainDrop, trainEarly]\n",
    "bars2 = [valNo, valL2, valDrop, valEarly]\n",
    "\n",
    "# set width of bar. To work and supply some padding\n",
    "# the number of groups times barWidth must be\n",
    "# a little less than 1 (since the next group\n",
    "# will start at 1, then 2, etc).\n",
    "\n",
    "barWidth = 0.25\n",
    "# Set position of bar on X axis\n",
    "r1 = np.arange(len(bars1))\n",
    "r2 = [x + barWidth for x in r1]\n",
    "\n",
    "# Make the plot\n",
    "plt.bar(r1, bars1, color='green', width=barWidth, edgecolor='white', label='Train')\n",
    "plt.bar(r2, bars2, color='red', width=barWidth, edgecolor='white', label='Validate')\n",
    "\n",
    "# Add xticks on the middle of the group bars\n",
    "plt.xlabel('Different accuracies', fontweight='bold')\n",
    "plt.xticks([r + barWidth for r in range(len(bars1))], ['No regulation', 'L2 regulation', 'Dropout', 'Early stopping'])\n",
    "\n",
    "# Create legend & Show graphic\n",
    "plt.legend()\n",
    "plt.show()\n",
    "#plt.savefig(\"barChart.pdf\",dpi=400,bbox_inches='tight',pad_inches=0.05) # save as a pdf"
   ]
  }
 ],
 "metadata": {
  "kernelspec": {
   "display_name": "Python 3 (ipykernel)",
   "language": "python",
   "name": "python3"
  },
  "language_info": {
   "codemirror_mode": {
    "name": "ipython",
    "version": 3
   },
   "file_extension": ".py",
   "mimetype": "text/x-python",
   "name": "python",
   "nbconvert_exporter": "python",
   "pygments_lexer": "ipython3",
   "version": "3.9.10"
  },
  "varInspector": {
   "cols": {
    "lenName": 16,
    "lenType": 16,
    "lenVar": 40
   },
   "kernels_config": {
    "python": {
     "delete_cmd_postfix": "",
     "delete_cmd_prefix": "del ",
     "library": "var_list.py",
     "varRefreshCmd": "print(var_dic_list())"
    },
    "r": {
     "delete_cmd_postfix": ") ",
     "delete_cmd_prefix": "rm(",
     "library": "var_list.r",
     "varRefreshCmd": "cat(var_dic_list()) "
    }
   },
   "position": {
    "height": "306.844px",
    "left": "1550px",
    "right": "20px",
    "top": "120px",
    "width": "350px"
   },
   "types_to_exclude": [
    "module",
    "function",
    "builtin_function_or_method",
    "instance",
    "_Feature"
   ],
   "window_display": false
  }
 },
 "nbformat": 4,
 "nbformat_minor": 5
}
